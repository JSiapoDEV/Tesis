{
  "nbformat": 4,
  "nbformat_minor": 0,
  "metadata": {
    "colab": {
      "provenance": [],
      "toc_visible": true,
      "authorship_tag": "ABX9TyMJsMnc76uwweN+WkyZtqOI",
      "include_colab_link": true
    },
    "kernelspec": {
      "name": "python3",
      "display_name": "Python 3"
    },
    "language_info": {
      "name": "python"
    }
  },
  "cells": [
    {
      "cell_type": "markdown",
      "metadata": {
        "id": "view-in-github",
        "colab_type": "text"
      },
      "source": [
        "<a href=\"https://colab.research.google.com/github/JSiapoDEV/Tesis/blob/main/Tesis.ipynb\" target=\"_parent\"><img src=\"https://colab.research.google.com/assets/colab-badge.svg\" alt=\"Open In Colab\"/></a>"
      ]
    },
    {
      "cell_type": "code",
      "source": [
        "# Importar las bibliotecas necesarias\n",
        "import pandas as pd\n",
        "from sklearn.linear_model import LinearRegression\n",
        "\n",
        "# Crear un DataFrame con los datos de ejemplo\n",
        "datos = pd.DataFrame({\n",
        "    'edad': [18, 20, 19, 21, 22],\n",
        "    'genero': [0, 1, 0, 1, 1],  # 0: masculino, 1: femenino\n",
        "    'curso': [1, 2, 1, 2, 1],\n",
        "    'examenes': [10, 10, 10, 10, 10],\n",
        "    'notas': [60, 65, 70, 75, 80]\n",
        "})\n",
        "\n",
        "# Dividir los datos en características (X) y variable objetivo (y)\n",
        "X = datos[['edad', 'genero', 'curso', 'examenes']]\n",
        "y = datos['notas']\n",
        "\n",
        "# Crear el modelo de regresión lineal\n",
        "modelo = LinearRegression()\n",
        "\n",
        "# Ajustar el modelo a los datos\n",
        "modelo.fit(X, y)\n",
        "\n",
        "# Obtener la nota del décimo examen de un grupo de estudiantes\n",
        "nota_decimo_examen = 85\n",
        "\n",
        "# Crear nuevos datos para predecir las notas del resto de alumnos\n",
        "nuevos_datos = pd.DataFrame({\n",
        "    'edad': [19, 20, 18],\n",
        "    'genero': [0, 1, 0],\n",
        "    'curso': [2, 1, 2],\n",
        "    'examenes': [10, 10, 10]\n",
        "})\n",
        "\n",
        "# Predecir las notas del resto de alumnos\n",
        "notas_predichas = modelo.predict(nuevos_datos)\n",
        "\n",
        "# Imprimir las predicciones\n",
        "for i, nota_predicha in enumerate(notas_predichas):\n",
        "    print(f\"Nota predicha del alumno {i+1}: {nota_predicha}\")\n",
        "\n",
        "# Predecir la nota del grupo que tiene la nota del décimo examen\n",
        "grupo_con_nota_decimo = pd.DataFrame({\n",
        "    'edad': [23],\n",
        "    'genero': [1],\n",
        "    'curso': [1],\n",
        "    'examenes': [10]\n",
        "})\n",
        "\n",
        "nota_predicha_grupo_decimo = modelo.predict(grupo_con_nota_decimo)\n",
        "print(\"Nota predicha del grupo con nota del décimo examen:\", nota_predicha_grupo_decimo[0])\n"
      ],
      "metadata": {
        "colab": {
          "base_uri": "https://localhost:8080/"
        },
        "id": "4LfaOEV-RSS0",
        "outputId": "d3952e16-bfea-4a6e-ab0b-662cae37dd35"
      },
      "execution_count": 2,
      "outputs": [
        {
          "output_type": "stream",
          "name": "stdout",
          "text": [
            "Nota predicha del alumno 1: 75.0\n",
            "Nota predicha del alumno 2: 60.0\n",
            "Nota predicha del alumno 3: 65.0\n",
            "Nota predicha del grupo con nota del décimo examen: 90.00000000000003\n"
          ]
        }
      ]
    },
    {
      "cell_type": "code",
      "source": [
        "# Importar las bibliotecas necesarias\n",
        "import pandas as pd\n",
        "from sklearn.linear_model import LinearRegression\n",
        "from sklearn.model_selection import train_test_split\n",
        "import matplotlib.pyplot as plt\n",
        "\n",
        "# Crear un DataFrame con los datos de ejemplo\n",
        "datos = pd.DataFrame({\n",
        "    'edad': [18, 20, 19, 21, 22],\n",
        "    'genero': [0, 1, 0, 1, 1],  # 0: masculino, 1: femenino\n",
        "    'curso': [1, 2, 1, 2, 1],\n",
        "    'examenes': [10, 10, 10, 10, 10],\n",
        "    'notas': [60, 65, 70, 75, 80]\n",
        "})\n",
        "\n",
        "# Dividir los datos en características (X) y variable objetivo (y)\n",
        "X = datos[['edad', 'genero', 'curso', 'examenes']]\n",
        "y = datos['notas']\n",
        "\n",
        "# Dividir los datos en grupos de entrenamiento y validación\n",
        "X_entrenamiento, X_validacion, y_entrenamiento, y_validacion = train_test_split(X, y, test_size=0.2, random_state=42)\n",
        "\n",
        "# Crear el modelo de regresión lineal\n",
        "modelo = LinearRegression()\n",
        "\n",
        "# Ajustar el modelo a los datos de entrenamiento\n",
        "modelo.fit(X_entrenamiento, y_entrenamiento)\n",
        "\n",
        "# Obtener la nota del décimo examen de un grupo de estudiantes\n",
        "nota_decimo_examen = 85\n",
        "\n",
        "# Crear nuevos datos para predecir las notas del resto de alumnos\n",
        "nuevos_datos = pd.DataFrame({\n",
        "    'edad': [19, 20, 18],\n",
        "    'genero': [0, 1, 0],\n",
        "    'curso': [2, 1, 2],\n",
        "    'examenes': [10, 10, 10]\n",
        "})\n",
        "\n",
        "# Predecir las notas del resto de alumnos\n",
        "notas_predichas = modelo.predict(nuevos_datos)\n",
        "\n",
        "# Imprimir las predicciones\n",
        "for i, nota_predicha in enumerate(notas_predichas):\n",
        "    print(f\"Nota predicha del alumno {i+1}: {nota_predicha}\")\n",
        "\n",
        "# Predecir la nota del grupo que tiene la nota del décimo examen\n",
        "grupo_con_nota_decimo = pd.DataFrame({\n",
        "    'edad': [23],\n",
        "    'genero': [1],\n",
        "    'curso': [1],\n",
        "    'examenes': [10]\n",
        "})\n",
        "\n",
        "nota_predicha_grupo_decimo = modelo.predict(grupo_con_nota_decimo)\n",
        "print(\"Nota predicha del grupo con nota del décimo examen:\", nota_predicha_grupo_decimo[0])\n",
        "\n",
        "# Gráfico de las notas reales y predichas para el grupo de validación\n",
        "y_pred_validacion = modelo.predict(X_validacion)\n",
        "\n",
        "plt.scatter(X_validacion.index, y_validacion, color='blue', label='Notas reales (validación)')\n",
        "plt.scatter(X_validacion.index, y_pred_validacion, color='red', label='Notas predichas (validación)')\n",
        "plt.xlabel('Alumnos')\n",
        "plt.ylabel('Notas')\n",
        "plt.title('Notas reales vs. Notas predichas (validación)')\n",
        "plt.legend()\n",
        "plt.show()\n"
      ],
      "metadata": {
        "colab": {
          "base_uri": "https://localhost:8080/",
          "height": 543
        },
        "id": "usVb_ms8iJre",
        "outputId": "c7a38003-094b-4c1d-cf7b-8fbba7a923aa"
      },
      "execution_count": 4,
      "outputs": [
        {
          "output_type": "stream",
          "name": "stdout",
          "text": [
            "Nota predicha del alumno 1: 75.0\n",
            "Nota predicha del alumno 2: 60.0\n",
            "Nota predicha del alumno 3: 65.0\n",
            "Nota predicha del grupo con nota del décimo examen: 90.0\n"
          ]
        },
        {
          "output_type": "display_data",
          "data": {
            "text/plain": [
              "<Figure size 640x480 with 1 Axes>"
            ],
            "image/png": "[encoded data removed]"
          },
          "metadata": {}
        }
      ]
    }
  ]
}