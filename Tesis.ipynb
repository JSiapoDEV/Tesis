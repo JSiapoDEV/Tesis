{
  "nbformat": 4,
  "nbformat_minor": 0,
  "metadata": {
    "colab": {
      "provenance": [],
      "toc_visible": true,
      "include_colab_link": true
    },
    "kernelspec": {
      "name": "python3",
      "display_name": "Python 3"
    },
    "language_info": {
      "name": "python"
    }
  },
  "cells": [
    {
      "cell_type": "markdown",
      "metadata": {
        "id": "view-in-github",
        "colab_type": "text"
      },
      "source": [
        "<a href=\"https://colab.research.google.com/github/JSiapoDEV/Tesis/blob/main/Tesis.ipynb\" target=\"_parent\"><img src=\"https://colab.research.google.com/assets/colab-badge.svg\" alt=\"Open In Colab\"/></a>"
      ]
    },
    {
      "cell_type": "code",
      "source": [
        "# Importar las bibliotecas necesarias\n",
        "import pandas as pd\n",
        "from sklearn.linear_model import LinearRegression\n",
        "from sklearn.model_selection import train_test_split\n",
        "import matplotlib.pyplot as plt\n",
        "import numpy as np\n",
        "\n",
        "# Crear un DataFrame con los datos de ejemplo\n",
        "datos = pd.DataFrame({\n",
        "    'edad': [18, 20, 19, 21, 22],\n",
        "    'genero': [0, 1, 0, 1, 1],  # 0: masculino, 1: femenino\n",
        "    'tipo_examen': [1, 2, 1, 2, 1],\n",
        "    'examenes': [10, 10, 10, 10, 10],\n",
        "    'notas': [132, 265, 170, 275, 180]\n",
        "})\n",
        "\n",
        "# Dividir los datos en características (X) y variable objetivo (y)\n",
        "X = datos[['edad', 'genero', 'tipo_examen', 'examenes']]\n",
        "y = datos['notas']\n",
        "\n",
        "# Dividir los datos en grupos de entrenamiento y validación\n",
        "X_entrenamiento, X_validacion, y_entrenamiento, y_validacion = train_test_split(X, y, test_size=0.2, random_state=42)\n",
        "\n",
        "# Crear el modelo de regresión lineal\n",
        "modelo = LinearRegression()\n",
        "\n",
        "# Ajustar el modelo a los datos de entrenamiento\n",
        "modelo.fit(X_entrenamiento, y_entrenamiento)\n",
        "\n",
        "# Obtener la nota del décimo examen de un grupo de estudiantes\n",
        "nota_decimo_examen = 85\n",
        "\n",
        "# Crear nuevos datos para predecir las notas del resto de alumnos\n",
        "nuevos_datos = pd.DataFrame({\n",
        "    'edad': [19, 20, 18],\n",
        "    'genero': [0, 1, 0],\n",
        "    'tipo_examen': [2, 1, 2],\n",
        "    'examenes': [100, 110, 110]\n",
        "})\n",
        "\n",
        "# Predecir las notas del resto de alumnos\n",
        "notas_predichas = modelo.predict(nuevos_datos)\n",
        "\n",
        "# Imprimir las predicciones\n",
        "for i, nota_predicha in enumerate(notas_predichas):\n",
        "    print(f\"Nota predicha del alumno {i+1}: {np.round(nota_predicha, 3)}\")\n",
        "\n",
        "# Predecir la nota del grupo que tiene la nota del décimo examen\n",
        "#grupo_con_nota_decimo = pd.DataFrame({\n",
        "#    'edad': [23],\n",
        "#    'genero': [1],\n",
        "#    'tipo_examen': [1],\n",
        "#    'examenes': [130]\n",
        "#})\n",
        "\n",
        "#nota_predicha_grupo_decimo = modelo.predict(grupo_con_nota_decimo)\n",
        "#print(\"Nota predicha del grupo con nota del décimo examen:\", nota_predicha_grupo_decimo[0])\n",
        "\n",
        "# Gráfico de las notas reales y predichas para el grupo de validación\n",
        "y_pred_validacion = modelo.predict(X_validacion)\n",
        "\n",
        "#plt.scatter(X_validacion.index, y_validacion, color='blue', label='Notas reales (validación)')\n",
        "#plt.scatter(X_validacion.index, y_pred_validacion, color='red', label='Notas predichas (validación)')\n",
        "#plt.xlabel('Alumnos')\n",
        "#plt.ylabel('Notas')\n",
        "#plt.title('Notas reales vs. Notas predichas (validación)')\n",
        "#plt.legend()\n",
        "#plt.show()\n"
      ],
      "metadata": {
        "colab": {
          "base_uri": "https://localhost:8080/"
        },
        "id": "usVb_ms8iJre",
        "outputId": "ca696fa5-c716-4a71-f692-2ab3e5f1f7d7"
      },
      "execution_count": 15,
      "outputs": [
        {
          "output_type": "stream",
          "name": "stdout",
          "text": [
            "Nota predicha del alumno 1: 303.0\n",
            "Nota predicha del alumno 2: 104.0\n",
            "Nota predicha del alumno 3: 265.0\n"
          ]
        }
      ]
    }
  ]
}